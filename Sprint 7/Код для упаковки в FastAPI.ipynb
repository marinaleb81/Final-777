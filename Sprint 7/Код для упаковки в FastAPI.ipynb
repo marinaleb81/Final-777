{
 "cells": [
  {
   "cell_type": "code",
   "execution_count": 1,
   "metadata": {},
   "outputs": [
    {
     "name": "stdout",
     "output_type": "stream",
     "text": [
      "Предсказания успешно сохранены в 'files/predicted_results.csv'.\n"
     ]
    }
   ],
   "source": [
    "from joblib import load\n",
    "import pandas as pd\n",
    "\n",
    "# Шаг 1: Загрузка данных\n",
    "test_data = pd.read_csv('files/test.csv', sep=',')\n",
    "\n",
    "# Шаг 2: Удаление ненужных столбцов\n",
    "test_data = test_data.drop(columns=['Product ID'])\n",
    "\n",
    "# Шаг 3: Предобработка данных\n",
    "test_data = pd.get_dummies(test_data, columns=['Type'], prefix='Type')\n",
    "\n",
    "test_data.columns = test_data.columns.astype(str)\n",
    "test_data.columns = test_data.columns.str.replace(r'[\\[\\]<]', '', regex=True)\n",
    "test_data.columns = test_data.columns.str.replace(' ', '_')\n",
    "\n",
    "# Шаг 4: Загрузка обученной модели\n",
    "model = load('trained_stacking_model.joblib')\n",
    "\n",
    "# Шаг 5: Применение модели\n",
    "predicted_classes = model.predict(test_data)  # Предсказанные классы\n",
    "predicted_probabilities = model.predict_proba(test_data)[:, 1]  # Вероятности положительного класса\n",
    "\n",
    "# Шаг 6: Добавление предсказаний в тестовый набор\n",
    "test_data['Predicted_Class'] = predicted_classes\n",
    "test_data['Predicted_Probability'] = predicted_probabilities\n",
    "\n",
    "# Шаг 7: Сохранение результатов\n",
    "test_data.to_csv('files/predicted_results.csv', index=False)\n",
    "print(\"Предсказания успешно сохранены в 'files/predicted_results.csv'.\")\n"
   ]
  },
  {
   "cell_type": "code",
   "execution_count": 3,
   "metadata": {},
   "outputs": [
    {
     "name": "stdout",
     "output_type": "stream",
     "text": [
      "Index(['id', 'Air_temperature_K', 'Process_temperature_K',\n",
      "       'Rotational_speed_rpm', 'Torque_Nm', 'Tool_wear_min', 'TWF', 'HDF',\n",
      "       'PWF', 'OSF', 'RNF', 'Type_H', 'Type_L', 'Type_M', 'Predicted_Class',\n",
      "       'Predicted_Probability'],\n",
      "      dtype='object')\n"
     ]
    }
   ],
   "source": [
    "print(test_data.columns)"
   ]
  },
  {
   "cell_type": "code",
   "execution_count": null,
   "metadata": {},
   "outputs": [],
   "source": []
  }
 ],
 "metadata": {
  "kernelspec": {
   "display_name": "Python 3",
   "language": "python",
   "name": "python3"
  },
  "language_info": {
   "codemirror_mode": {
    "name": "ipython",
    "version": 3
   },
   "file_extension": ".py",
   "mimetype": "text/x-python",
   "name": "python",
   "nbconvert_exporter": "python",
   "pygments_lexer": "ipython3",
   "version": "3.12.7"
  }
 },
 "nbformat": 4,
 "nbformat_minor": 2
}
